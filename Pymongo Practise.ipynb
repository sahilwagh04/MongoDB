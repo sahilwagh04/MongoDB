{
 "cells": [
  {
   "cell_type": "code",
   "execution_count": 1,
   "id": "c654d130",
   "metadata": {},
   "outputs": [
    {
     "name": "stdout",
     "output_type": "stream",
     "text": [
      "Collecting pymongo\n",
      "  Downloading pymongo-4.6.1-cp311-cp311-win_amd64.whl.metadata (22 kB)\n",
      "Collecting dnspython<3.0.0,>=1.16.0 (from pymongo)\n",
      "  Downloading dnspython-2.4.2-py3-none-any.whl.metadata (4.9 kB)\n",
      "Downloading pymongo-4.6.1-cp311-cp311-win_amd64.whl (472 kB)\n",
      "   ---------------------------------------- 0.0/472.7 kB ? eta -:--:--\n",
      "   ---------------- ----------------------- 194.6/472.7 kB 3.9 MB/s eta 0:00:01\n",
      "   ---------------------------------------  471.0/472.7 kB 5.8 MB/s eta 0:00:01\n",
      "   ---------------------------------------  471.0/472.7 kB 5.8 MB/s eta 0:00:01\n",
      "   ---------------------------------------- 472.7/472.7 kB 2.5 MB/s eta 0:00:00\n",
      "Downloading dnspython-2.4.2-py3-none-any.whl (300 kB)\n",
      "   ---------------------------------------- 0.0/300.4 kB ? eta -:--:--\n",
      "   --------------------------------------  297.0/300.4 kB 17.9 MB/s eta 0:00:01\n",
      "   --------------------------------------  297.0/300.4 kB 17.9 MB/s eta 0:00:01\n",
      "   --------------------------------------  297.0/300.4 kB 17.9 MB/s eta 0:00:01\n",
      "   --------------------------------------  297.0/300.4 kB 17.9 MB/s eta 0:00:01\n",
      "   --------------------------------------  297.0/300.4 kB 17.9 MB/s eta 0:00:01\n",
      "   ---------------------------------------- 300.4/300.4 kB 1.2 MB/s eta 0:00:00\n",
      "Installing collected packages: dnspython, pymongo\n",
      "Successfully installed dnspython-2.4.2 pymongo-4.6.1\n",
      "Note: you may need to restart the kernel to use updated packages.\n"
     ]
    },
    {
     "name": "stderr",
     "output_type": "stream",
     "text": [
      "\n",
      "[notice] A new release of pip is available: 23.3.1 -> 23.3.2\n",
      "[notice] To update, run: python.exe -m pip install --upgrade pip\n"
     ]
    }
   ],
   "source": [
    "pip install pymongo"
   ]
  },
  {
   "cell_type": "code",
   "execution_count": null,
   "id": "3c526e80",
   "metadata": {},
   "outputs": [],
   "source": [
    "Driver to connect python to mongodb"
   ]
  },
  {
   "cell_type": "code",
   "execution_count": 4,
   "id": "7fbac4ee",
   "metadata": {},
   "outputs": [],
   "source": [
    "import pymongo"
   ]
  },
  {
   "cell_type": "code",
   "execution_count": 5,
   "id": "58f50828",
   "metadata": {},
   "outputs": [],
   "source": [
    "client=pymongo.MongoClient('mongodb://localhost:27017/')"
   ]
  },
  {
   "cell_type": "code",
   "execution_count": 6,
   "id": "adb7a806",
   "metadata": {},
   "outputs": [],
   "source": [
    "client2=pymongo.MongoClient('mongodb://localhost:27017/')"
   ]
  },
  {
   "cell_type": "code",
   "execution_count": 16,
   "id": "07959b86",
   "metadata": {},
   "outputs": [],
   "source": [
    "db=client2[\"Sahil2\"]"
   ]
  },
  {
   "cell_type": "code",
   "execution_count": 17,
   "id": "15c22495",
   "metadata": {},
   "outputs": [],
   "source": [
    "collection=db[\"data\"]"
   ]
  },
  {
   "cell_type": "code",
   "execution_count": 18,
   "id": "6749718c",
   "metadata": {
    "scrolled": true
   },
   "outputs": [
    {
     "data": {
      "text/plain": [
       "Collection(Database(MongoClient(host=['localhost:27017'], document_class=dict, tz_aware=False, connect=True), 'Sahil2'), 'data')"
      ]
     },
     "execution_count": 18,
     "metadata": {},
     "output_type": "execute_result"
    }
   ],
   "source": [
    "collection"
   ]
  },
  {
   "cell_type": "code",
   "execution_count": 19,
   "id": "604be673",
   "metadata": {},
   "outputs": [],
   "source": [
    "student_data=db.data"
   ]
  },
  {
   "cell_type": "code",
   "execution_count": 20,
   "id": "fe710277",
   "metadata": {},
   "outputs": [],
   "source": [
    "student_id=student_data.insert_one({\"name\":\"chetana\",\"city\":\"pune\"}).inserted_id"
   ]
  },
  {
   "cell_type": "code",
   "execution_count": 21,
   "id": "0613f727",
   "metadata": {},
   "outputs": [],
   "source": [
    "db=client[\"chetana123\"]"
   ]
  },
  {
   "cell_type": "code",
   "execution_count": 22,
   "id": "8c81c742",
   "metadata": {},
   "outputs": [],
   "source": [
    "collection=db[\"chetana123\"]"
   ]
  },
  {
   "cell_type": "code",
   "execution_count": 23,
   "id": "7eb9d32f",
   "metadata": {},
   "outputs": [
    {
     "name": "stdout",
     "output_type": "stream",
     "text": [
      "Collection(Database(MongoClient(host=['localhost:27017'], document_class=dict, tz_aware=False, connect=True), 'chetana123'), 'chetana123')\n"
     ]
    }
   ],
   "source": [
    "print(collection)"
   ]
  },
  {
   "cell_type": "markdown",
   "id": "4559c7b9",
   "metadata": {},
   "source": [
    "### to insert document in collection"
   ]
  },
  {
   "cell_type": "code",
   "execution_count": 24,
   "id": "409ed224",
   "metadata": {},
   "outputs": [],
   "source": [
    "student_data=db.student_data"
   ]
  },
  {
   "cell_type": "code",
   "execution_count": 25,
   "id": "c3a53615",
   "metadata": {},
   "outputs": [],
   "source": [
    "student_id=student_data.insert_one({\"name\":\"sejal\",\"city\":\"Kharbi\"}).inserted_id"
   ]
  },
  {
   "cell_type": "code",
   "execution_count": 26,
   "id": "7f33659a",
   "metadata": {},
   "outputs": [
    {
     "name": "stdout",
     "output_type": "stream",
     "text": [
      "659fa0c2e537597241879e95\n"
     ]
    }
   ],
   "source": [
    "print(student_id)"
   ]
  },
  {
   "cell_type": "code",
   "execution_count": 27,
   "id": "d846a72f",
   "metadata": {},
   "outputs": [],
   "source": [
    "db=client[\"nagpur_data\"]"
   ]
  },
  {
   "cell_type": "code",
   "execution_count": 29,
   "id": "fa89ba78",
   "metadata": {},
   "outputs": [],
   "source": [
    "data=db.nagpur_data.insert_one({\"name\":\"abc\"}).inserted_id"
   ]
  },
  {
   "cell_type": "code",
   "execution_count": 30,
   "id": "4e7a8ab7",
   "metadata": {},
   "outputs": [
    {
     "data": {
      "text/plain": [
       "ObjectId('659fa15ae537597241879e96')"
      ]
     },
     "execution_count": 30,
     "metadata": {},
     "output_type": "execute_result"
    }
   ],
   "source": [
    "data"
   ]
  },
  {
   "cell_type": "markdown",
   "id": "684998cd",
   "metadata": {},
   "source": [
    "## database2"
   ]
  },
  {
   "cell_type": "code",
   "execution_count": 31,
   "id": "42f02c2d",
   "metadata": {},
   "outputs": [],
   "source": [
    "mydb=client[\"Emplyees_data\"]\n",
    "empinfo=mydb.employeeinfo"
   ]
  },
  {
   "cell_type": "code",
   "execution_count": null,
   "id": "ea444891",
   "metadata": {},
   "outputs": [],
   "source": [
    "record={\n",
    "    \"firstname\":\"chetana\",\n",
    "    \"lastname\":\"vasave\",\n",
    "    \"dept\":\"data science\",\n",
    "    \"expereince\":\"3years\"\n",
    "}\n",
    "empinfo.insert_one(record)"
   ]
  }
 ],
 "metadata": {
  "kernelspec": {
   "display_name": "Python 3 (ipykernel)",
   "language": "python",
   "name": "python3"
  },
  "language_info": {
   "codemirror_mode": {
    "name": "ipython",
    "version": 3
   },
   "file_extension": ".py",
   "mimetype": "text/x-python",
   "name": "python",
   "nbconvert_exporter": "python",
   "pygments_lexer": "ipython3",
   "version": "3.11.4"
  }
 },
 "nbformat": 4,
 "nbformat_minor": 5
}
